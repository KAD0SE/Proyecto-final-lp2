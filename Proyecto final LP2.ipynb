{
 "cells": [
  {
   "cell_type": "markdown",
   "id": "881dfd01",
   "metadata": {},
   "source": [
    "### Página web escogida: \n",
    "https://www.berger.ca/es/recursos-para-los-productores/tips-y-consejos-practicos/ambiente-necesario-para-la-apropiada-germinacion-de-la-semilla/#:~:text=La%20mayor%C3%ADa%20de%20las%20semillas,luz%20del%20sol%20para%20crecer\n",
    "\n",
    "### Resumen:\n",
    "- Germinación de las semillas: La página explica los factores que influyen en la germinación de las semillas, como la temperatura, la humedad, el oxígeno y la luz. También indica los rangos de temperatura óptimos para diferentes tipos de semillas.\n",
    "- Crecimiento de las plántulas: La página describe las condiciones adecuadas para el crecimiento de las plántulas, tanto en el invernadero como en el campo. Señala la importancia de la calidad del suelo, el nivel de luz, la temperatura y el riego. También recomienda aclimatar las plántulas antes de trasplantarlas al campo.\n",
    "- Referencias: La página contiene muchas referencias a otras fuentes de información sobre la producción de hortalizas orgánicas."
   ]
  },
  {
   "cell_type": "markdown",
   "id": "cab64cff",
   "metadata": {},
   "source": [
    "## webscrapo a traves de su api "
   ]
  },
  {
   "cell_type": "code",
   "execution_count": null,
   "id": "04ba96ac",
   "metadata": {},
   "outputs": [],
   "source": []
  }
 ],
 "metadata": {
  "kernelspec": {
   "display_name": "Python 3 (ipykernel)",
   "language": "python",
   "name": "python3"
  },
  "language_info": {
   "codemirror_mode": {
    "name": "ipython",
    "version": 3
   },
   "file_extension": ".py",
   "mimetype": "text/x-python",
   "name": "python",
   "nbconvert_exporter": "python",
   "pygments_lexer": "ipython3",
   "version": "3.11.4"
  }
 },
 "nbformat": 4,
 "nbformat_minor": 5
}
