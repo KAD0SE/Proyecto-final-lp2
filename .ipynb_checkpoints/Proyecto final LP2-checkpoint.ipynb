{
 "cells": [
  {
   "cell_type": "markdown",
   "id": "881dfd01",
   "metadata": {},
   "source": [
    "### Página web escogida: \n",
    "https://www.berger.ca/es/recursos-para-los-productores/tips-y-consejos-practicos/ambiente-necesario-para-la-apropiada-germinacion-de-la-semilla/#:~:text=La%20mayor%C3%ADa%20de%20las%20semillas,luz%20del%20sol%20para%20crecer\n",
    "\n",
    "### Resumen:\n",
    "- Germinación de las semillas: La página explica los factores que influyen en la germinación de las semillas, como la temperatura, la humedad, el oxígeno y la luz. También indica los rangos de temperatura óptimos para diferentes tipos de semillas.\n",
    "- Crecimiento de las plántulas: La página describe las condiciones adecuadas para el crecimiento de las plántulas, tanto en el invernadero como en el campo. Señala la importancia de la calidad del suelo, el nivel de luz, la temperatura y el riego. También recomienda aclimatar las plántulas antes de trasplantarlas al campo.\n",
    "- Referencias: La página contiene muchas referencias a otras fuentes de información sobre la producción de hortalizas orgánicas."
   ]
  },
  {
   "cell_type": "markdown",
   "id": "cab64cff",
   "metadata": {},
   "source": [
    "## webscrapo a traves de su api "
   ]
  },
  {
   "cell_type": "code",
   "execution_count": 4,
   "id": "4e756420",
   "metadata": {},
   "outputs": [
    {
     "name": "stdout",
     "output_type": "stream",
     "text": [
      "Defaulting to user installation because normal site-packages is not writeableNote: you may need to restart the kernel to use updated packages.\n",
      "\n",
      "Requirement already satisfied: requests in c:\\programdata\\anaconda3\\lib\\site-packages (2.31.0)\n",
      "Requirement already satisfied: charset-normalizer<4,>=2 in c:\\programdata\\anaconda3\\lib\\site-packages (from requests) (2.0.4)\n",
      "Requirement already satisfied: idna<4,>=2.5 in c:\\programdata\\anaconda3\\lib\\site-packages (from requests) (3.4)\n",
      "Requirement already satisfied: urllib3<3,>=1.21.1 in c:\\programdata\\anaconda3\\lib\\site-packages (from requests) (1.26.16)\n",
      "Requirement already satisfied: certifi>=2017.4.17 in c:\\programdata\\anaconda3\\lib\\site-packages (from requests) (2023.7.22)\n"
     ]
    }
   ],
   "source": [
    "pip install --upgrade requests"
   ]
  },
  {
   "cell_type": "code",
   "execution_count": 7,
   "id": "04ba96ac",
   "metadata": {},
   "outputs": [
    {
     "data": {
      "text/plain": [
       "'{\"lat\":\"51.50853N\",\"lon\":\"0.12574W\",\"elevation\":25,\"timezone\":\"UTC\",\"units\":\"metric\",\"current\":{\"icon\":\"cloudy\",\"icon_num\":6,\"summary\":\"Cloudy\",\"temperature\":4.8,\"wind\":{\"speed\":3.0,\"angle\":35,\"dir\":\"NE\"},\"precipitation\":{\"total\":0.0,\"type\":\"none\"},\"cloud_cover\":88},\"hourly\":{\"data\":[{\"date\":\"2024-01-12T16:00:00\",\"weather\":\"cloudy\",\"icon\":6,\"summary\":\"Cloudy\",\"temperature\":4.8,\"wind\":{\"speed\":3.0,\"dir\":\"NE\",\"angle\":35},\"cloud_cover\":{\"total\":88},\"precipitation\":{\"total\":0.0,\"type\":\"none\"}},{\"date\":\"2024-01-12T17:00:00\",\"weather\":\"mostly_cloudy\",\"icon\":29,\"summary\":\"Mostly cloudy\",\"temperature\":4.5,\"wind\":{\"speed\":2.4,\"dir\":\"NNE\",\"angle\":29},\"cloud_cover\":{\"total\":79},\"precipitation\":{\"total\":0.0,\"type\":\"none\"}},{\"date\":\"2024-01-12T18:00:00\",\"weather\":\"mostly_cloudy\",\"icon\":29,\"summary\":\"Mostly cloudy\",\"temperature\":4.5,\"wind\":{\"speed\":1.9,\"dir\":\"NNE\",\"angle\":22},\"cloud_cover\":{\"total\":72},\"precipitation\":{\"total\":0.0,\"type\":\"none\"}},{\"date\":\"2024-01-12T19:00:00\",\"weather\":\"mostly_cloudy\",\"icon\":29,\"summary\":\"Mostly cloudy\",\"temperature\":4.5,\"wind\":{\"speed\":1.7,\"dir\":\"NNE\",\"angle\":20},\"cloud_cover\":{\"total\":68},\"precipitation\":{\"total\":0.0,\"type\":\"none\"}},{\"date\":\"2024-01-12T20:00:00\",\"weather\":\"partly_clear\",\"icon\":28,\"summary\":\"Partly clear\",\"temperature\":4.5,\"wind\":{\"speed\":0.9,\"dir\":\"NNE\",\"angle\":32},\"cloud_cover\":{\"total\":51},\"precipitation\":{\"total\":0.0,\"type\":\"none\"}},{\"date\":\"2024-01-12T21:00:00\",\"weather\":\"partly_clear\",\"icon\":28,\"summary\":\"Partly clear\",\"temperature\":4.5,\"wind\":{\"speed\":0.6,\"dir\":\"N\",\"angle\":358},\"cloud_cover\":{\"total\":49},\"precipitation\":{\"total\":0.0,\"type\":\"none\"}},{\"date\":\"2024-01-12T22:00:00\",\"weather\":\"partly_clear\",\"icon\":28,\"summary\":\"Partly clear\",\"temperature\":4.2,\"wind\":{\"speed\":0.5,\"dir\":\"NW\",\"angle\":304},\"cloud_cover\":{\"total\":54},\"precipitation\":{\"total\":0.0,\"type\":\"none\"}},{\"date\":\"2024-01-12T23:00:00\",\"weather\":\"partly_clear\",\"icon\":28,\"summary\":\"Partly clear\",\"temperature\":4.0,\"wind\":{\"speed\":1.0,\"dir\":\"WNW\",\"angle\":290},\"cloud_cover\":{\"total\":52},\"precipitation\":{\"total\":0.0,\"type\":\"none\"}},{\"date\":\"2024-01-13T00:00:00\",\"weather\":\"partly_clear\",\"icon\":28,\"summary\":\"Partly clear\",\"temperature\":4.0,\"wind\":{\"speed\":1.4,\"dir\":\"W\",\"angle\":270},\"cloud_cover\":{\"total\":55},\"precipitation\":{\"total\":0.0,\"type\":\"none\"}},{\"date\":\"2024-01-13T01:00:00\",\"weather\":\"partly_clear\",\"icon\":28,\"summary\":\"Partly clear\",\"temperature\":3.8,\"wind\":{\"speed\":1.6,\"dir\":\"W\",\"angle\":267},\"cloud_cover\":{\"total\":51},\"precipitation\":{\"total\":0.0,\"type\":\"none\"}},{\"date\":\"2024-01-13T02:00:00\",\"weather\":\"partly_clear\",\"icon\":28,\"summary\":\"Partly clear\",\"temperature\":3.5,\"wind\":{\"speed\":1.5,\"dir\":\"W\",\"angle\":270},\"cloud_cover\":{\"total\":55},\"precipitation\":{\"total\":0.0,\"type\":\"none\"}},{\"date\":\"2024-01-13T03:00:00\",\"weather\":\"partly_clear\",\"icon\":28,\"summary\":\"Partly clear\",\"temperature\":3.5,\"wind\":{\"speed\":1.6,\"dir\":\"WSW\",\"angle\":254},\"cloud_cover\":{\"total\":45},\"precipitation\":{\"total\":0.0,\"type\":\"none\"}},{\"date\":\"2024-01-13T04:00:00\",\"weather\":\"partly_clear\",\"icon\":28,\"summary\":\"Partly clear\",\"temperature\":3.0,\"wind\":{\"speed\":1.8,\"dir\":\"W\",\"angle\":263},\"cloud_cover\":{\"total\":48},\"precipitation\":{\"total\":0.0,\"type\":\"none\"}},{\"date\":\"2024-01-13T05:00:00\",\"weather\":\"partly_clear\",\"icon\":28,\"summary\":\"Partly clear\",\"temperature\":2.8,\"wind\":{\"speed\":1.9,\"dir\":\"WSW\",\"angle\":243},\"cloud_cover\":{\"total\":49},\"precipitation\":{\"total\":0.0,\"type\":\"none\"}},{\"date\":\"2024-01-13T06:00:00\",\"weather\":\"mostly_clear\",\"icon\":27,\"summary\":\"Mostly clear\",\"temperature\":2.5,\"wind\":{\"speed\":1.8,\"dir\":\"WNW\",\"angle\":285},\"cloud_cover\":{\"total\":14},\"precipitation\":{\"total\":0.0,\"type\":\"none\"}},{\"date\":\"2024-01-13T07:00:00\",\"weather\":\"clear\",\"icon\":26,\"summary\":\"Clear\",\"temperature\":2.0,\"wind\":{\"speed\":1.6,\"dir\":\"W\",\"angle\":274},\"cloud_cover\":{\"total\":3},\"precipitation\":{\"total\":0.0,\"type\":\"none\"}},{\"date\":\"2024-01-13T08:00:00\",\"weather\":\"sunny\",\"icon\":2,\"summary\":\"Sunny\",\"temperature\":1.2,\"wind\":{\"speed\":1.9,\"dir\":\"W\",\"angle\":264},\"cloud_cover\":{\"total\":3},\"precipitation\":{\"total\":0.0,\"type\":\"none\"}},{\"date\":\"2024-01-13T09:00:00\",\"weather\":\"mostly_sunny\",\"icon\":3,\"summary\":\"Mostly sunny\",\"temperature\":0.8,\"wind\":{\"speed\":2.1,\"dir\":\"W\",\"angle\":264},\"cloud_cover\":{\"total\":13},\"precipitation\":{\"total\":0.0,\"type\":\"none\"}},{\"date\":\"2024-01-13T10:00:00\",\"weather\":\"mostly_sunny\",\"icon\":3,\"summary\":\"Mostly sunny\",\"temperature\":1.5,\"wind\":{\"speed\":2.4,\"dir\":\"W\",\"angle\":268},\"cloud_cover\":{\"total\":14},\"precipitation\":{\"total\":0.0,\"type\":\"none\"}},{\"date\":\"2024-01-13T11:00:00\",\"weather\":\"mostly_sunny\",\"icon\":3,\"summary\":\"Mostly sunny\",\"temperature\":2.5,\"wind\":{\"speed\":2.6,\"dir\":\"WNW\",\"angle\":291},\"cloud_cover\":{\"total\":16},\"precipitation\":{\"total\":0.0,\"type\":\"none\"}},{\"date\":\"2024-01-13T12:00:00\",\"weather\":\"mostly_sunny\",\"icon\":3,\"summary\":\"Mostly sunny\",\"temperature\":3.5,\"wind\":{\"speed\":2.6,\"dir\":\"WNW\",\"angle\":293},\"cloud_cover\":{\"total\":16},\"precipitation\":{\"total\":0.0,\"type\":\"none\"}},{\"date\":\"2024-01-13T13:00:00\",\"weather\":\"sunny\",\"icon\":2,\"summary\":\"Sunny\",\"temperature\":4.0,\"wind\":{\"speed\":2.8,\"dir\":\"W\",\"angle\":281},\"cloud_cover\":{\"total\":3},\"precipitation\":{\"total\":0.0,\"type\":\"none\"}},{\"date\":\"2024-01-13T14:00:00\",\"weather\":\"sunny\",\"icon\":2,\"summary\":\"Sunny\",\"temperature\":4.5,\"wind\":{\"speed\":2.9,\"dir\":\"W\",\"angle\":278},\"cloud_cover\":{\"total\":0.0},\"precipitation\":{\"total\":0.0,\"type\":\"none\"}},{\"date\":\"2024-01-13T15:00:00\",\"weather\":\"sunny\",\"icon\":2,\"summary\":\"Sunny\",\"temperature\":4.5,\"wind\":{\"speed\":2.5,\"dir\":\"W\",\"angle\":274},\"cloud_cover\":{\"total\":0.0},\"precipitation\":{\"total\":0.0,\"type\":\"none\"}}]},\"daily\":{\"data\":[{\"day\":\"2024-01-12\",\"weather\":\"cloudy\",\"icon\":6,\"summary\":\"Cloudy changing to partly sunny by evening. Temperature 4/6 °C.\",\"all_day\":{\"weather\":\"cloudy\",\"icon\":6,\"temperature\":4.8,\"temperature_min\":4.0,\"temperature_max\":5.5,\"wind\":{\"speed\":3.4,\"dir\":\"NNE\",\"angle\":33},\"cloud_cover\":{\"total\":90},\"precipitation\":{\"total\":0.0,\"type\":\"none\"}},\"morning\":null,\"afternoon\":null,\"evening\":null},{\"day\":\"2024-01-13\",\"weather\":\"mostly_sunny\",\"icon\":3,\"summary\":\"Sunny, more clouds in the evening. Temperature 1/5 °C.\",\"all_day\":{\"weather\":\"mostly_sunny\",\"icon\":3,\"temperature\":2.8,\"temperature_min\":0.8,\"temperature_max\":4.5,\"wind\":{\"speed\":2.0,\"dir\":\"W\",\"angle\":273},\"cloud_cover\":{\"total\":27},\"precipitation\":{\"total\":0.0,\"type\":\"none\"}},\"morning\":null,\"afternoon\":null,\"evening\":null},{\"day\":\"2024-01-14\",\"weather\":\"mostly_cloudy\",\"icon\":5,\"summary\":\"Partly sunny, more clouds in the evening. Temperature 1/6 °C.\",\"all_day\":{\"weather\":\"mostly_cloudy\",\"icon\":5,\"temperature\":2.5,\"temperature_min\":1.0,\"temperature_max\":5.5,\"wind\":{\"speed\":2.3,\"dir\":\"WNW\",\"angle\":282},\"cloud_cover\":{\"total\":66},\"precipitation\":{\"total\":0.0,\"type\":\"none\"}},\"morning\":null,\"afternoon\":null,\"evening\":null},{\"day\":\"2024-01-15\",\"weather\":\"mostly_sunny\",\"icon\":3,\"summary\":\"Partly sunny, fewer clouds in the evening. Temperature 0/3 °C.\",\"all_day\":{\"weather\":\"mostly_sunny\",\"icon\":3,\"temperature\":1.0,\"temperature_min\":-0.5,\"temperature_max\":2.5,\"wind\":{\"speed\":3.1,\"dir\":\"NNW\",\"angle\":334},\"cloud_cover\":{\"total\":27},\"precipitation\":{\"total\":0.0,\"type\":\"none\"}},\"morning\":null,\"afternoon\":null,\"evening\":null},{\"day\":\"2024-01-16\",\"weather\":\"partly_sunny\",\"icon\":4,\"summary\":\"Partly sunny, fewer clouds in the afternoon. Temperature -1/2 °C.\",\"all_day\":{\"weather\":\"partly_sunny\",\"icon\":4,\"temperature\":0.0,\"temperature_min\":-1.2,\"temperature_max\":2.2,\"wind\":{\"speed\":2.2,\"dir\":\"W\",\"angle\":274},\"cloud_cover\":{\"total\":23},\"precipitation\":{\"total\":0.0,\"type\":\"none\"}},\"morning\":null,\"afternoon\":null,\"evening\":null},{\"day\":\"2024-01-17\",\"weather\":\"overcast\",\"icon\":7,\"summary\":\"Cloudy. Temperature -1/1 °C.\",\"all_day\":{\"weather\":\"overcast\",\"icon\":7,\"temperature\":-0.5,\"temperature_min\":-1.2,\"temperature_max\":0.8,\"wind\":{\"speed\":1.1,\"dir\":\"WNW\",\"angle\":294},\"cloud_cover\":{\"total\":96},\"precipitation\":{\"total\":0.0,\"type\":\"none\"}},\"morning\":null,\"afternoon\":null,\"evening\":null},{\"day\":\"2024-01-18\",\"weather\":\"sunny\",\"icon\":2,\"summary\":\"Sunny. Temperature -1/1 °C.\",\"all_day\":{\"weather\":\"sunny\",\"icon\":2,\"temperature\":-0.5,\"temperature_min\":-1.5,\"temperature_max\":1.2,\"wind\":{\"speed\":2.4,\"dir\":\"NNW\",\"angle\":336},\"cloud_cover\":{\"total\":16},\"precipitation\":{\"total\":0.0,\"type\":\"none\"}},\"morning\":null,\"afternoon\":null,\"evening\":null}]}}'"
      ]
     },
     "execution_count": 7,
     "metadata": {},
     "output_type": "execute_result"
    }
   ],
   "source": [
    "#Importando librerías\n",
    "from urllib.request import urlopen\n",
    "import requests\n",
    "import json\n",
    "import csv\n",
    "\n",
    "# Definición de la API Key y la URL de la API de MeteoSource.\n",
    "apikey=\"wl1fq8nuvjv4exgk53iyn63hovk2tz6x4spoigyr\"\n",
    "url=\"https://www.meteosource.com/api/v1/free/point?place_id=london&sections=all&timezone=UTC&language=en&units=metric&key=wl1fq8nuvjv4exgk53iyn63hovk2tz6x4spoigyr\"\n",
    "\n",
    "uclient=urlopen(url)\n",
    "responsehtml=uclient.read()\n",
    "uclient.close()\n",
    "data = responsehtml.decode()\n",
    "data"
   ]
  },
  {
   "cell_type": "code",
   "execution_count": null,
   "id": "c88e2e72",
   "metadata": {},
   "outputs": [],
   "source": []
  }
 ],
 "metadata": {
  "kernelspec": {
   "display_name": "Python 3 (ipykernel)",
   "language": "python",
   "name": "python3"
  },
  "language_info": {
   "codemirror_mode": {
    "name": "ipython",
    "version": 3
   },
   "file_extension": ".py",
   "mimetype": "text/x-python",
   "name": "python",
   "nbconvert_exporter": "python",
   "pygments_lexer": "ipython3",
   "version": "3.11.4"
  }
 },
 "nbformat": 4,
 "nbformat_minor": 5
}
